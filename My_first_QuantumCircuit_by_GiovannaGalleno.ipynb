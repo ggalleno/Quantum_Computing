{
 "cells": [
  {
   "cell_type": "code",
   "execution_count": 5,
   "metadata": {
    "colab": {
     "base_uri": "https://localhost:8080/"
    },
    "id": "NR5oSGHqXUGR",
    "outputId": "59ed19e2-a82b-4eb7-c4e2-4cb5ae306b7c"
   },
   "outputs": [
    {
     "name": "stdout",
     "output_type": "stream",
     "text": [
      "Requirement already satisfied: qiskit in /opt/conda/lib/python3.8/site-packages (0.23.6)\n",
      "Requirement already satisfied: qiskit-terra==0.16.4 in /opt/conda/lib/python3.8/site-packages (from qiskit) (0.16.4)\n",
      "Requirement already satisfied: qiskit-ibmq-provider==0.11.1 in /opt/conda/lib/python3.8/site-packages (from qiskit) (0.11.1)\n",
      "Requirement already satisfied: qiskit-aqua==0.8.2 in /opt/conda/lib/python3.8/site-packages (from qiskit) (0.8.2)\n",
      "Requirement already satisfied: qiskit-ignis==0.5.2 in /opt/conda/lib/python3.8/site-packages (from qiskit) (0.5.2)\n",
      "Requirement already satisfied: qiskit-aer==0.7.5 in /opt/conda/lib/python3.8/site-packages (from qiskit) (0.7.5)\n",
      "Requirement already satisfied: scipy>=1.0 in /opt/conda/lib/python3.8/site-packages (from qiskit-aer==0.7.5->qiskit) (1.6.1)\n",
      "Requirement already satisfied: pybind11>=2.4 in /opt/conda/lib/python3.8/site-packages (from qiskit-aer==0.7.5->qiskit) (2.6.2)\n",
      "Requirement already satisfied: numpy>=1.16.3 in /opt/conda/lib/python3.8/site-packages (from qiskit-aer==0.7.5->qiskit) (1.20.1)\n",
      "Requirement already satisfied: cython>=0.27.1 in /opt/conda/lib/python3.8/site-packages (from qiskit-aer==0.7.5->qiskit) (0.29.22)\n",
      "Requirement already satisfied: setuptools>=40.1.0 in /opt/conda/lib/python3.8/site-packages (from qiskit-aqua==0.8.2->qiskit) (53.1.0)\n",
      "Requirement already satisfied: pandas in /opt/conda/lib/python3.8/site-packages (from qiskit-aqua==0.8.2->qiskit) (1.2.2)\n",
      "Requirement already satisfied: scikit-learn>=0.20.0 in /opt/conda/lib/python3.8/site-packages (from qiskit-aqua==0.8.2->qiskit) (0.24.1)\n",
      "Requirement already satisfied: psutil>=5 in /opt/conda/lib/python3.8/site-packages (from qiskit-aqua==0.8.2->qiskit) (5.8.0)\n",
      "Requirement already satisfied: quandl in /opt/conda/lib/python3.8/site-packages (from qiskit-aqua==0.8.2->qiskit) (3.6.0)\n",
      "Requirement already satisfied: docplex==2.15.194 in /opt/conda/lib/python3.8/site-packages (from qiskit-aqua==0.8.2->qiskit) (2.15.194)\n",
      "Requirement already satisfied: h5py in /opt/conda/lib/python3.8/site-packages (from qiskit-aqua==0.8.2->qiskit) (3.1.0)\n",
      "Requirement already satisfied: fastdtw in /opt/conda/lib/python3.8/site-packages (from qiskit-aqua==0.8.2->qiskit) (0.3.4)\n",
      "Requirement already satisfied: sympy>=1.3 in /opt/conda/lib/python3.8/site-packages (from qiskit-aqua==0.8.2->qiskit) (1.7.1)\n",
      "Requirement already satisfied: yfinance in /opt/conda/lib/python3.8/site-packages (from qiskit-aqua==0.8.2->qiskit) (0.1.55)\n",
      "Requirement already satisfied: retworkx>=0.5.0 in /opt/conda/lib/python3.8/site-packages (from qiskit-aqua==0.8.2->qiskit) (0.7.2)\n",
      "Requirement already satisfied: dlx in /opt/conda/lib/python3.8/site-packages (from qiskit-aqua==0.8.2->qiskit) (1.0.4)\n",
      "Requirement already satisfied: six in /opt/conda/lib/python3.8/site-packages (from docplex==2.15.194->qiskit-aqua==0.8.2->qiskit) (1.15.0)\n",
      "Requirement already satisfied: requests in /opt/conda/lib/python3.8/site-packages (from docplex==2.15.194->qiskit-aqua==0.8.2->qiskit) (2.25.1)\n",
      "Requirement already satisfied: python-dateutil>=2.8.0 in /opt/conda/lib/python3.8/site-packages (from qiskit-ibmq-provider==0.11.1->qiskit) (2.8.1)\n",
      "Requirement already satisfied: requests-ntlm>=1.1.0 in /opt/conda/lib/python3.8/site-packages (from qiskit-ibmq-provider==0.11.1->qiskit) (1.1.0)\n",
      "Requirement already satisfied: urllib3>=1.21.1 in /opt/conda/lib/python3.8/site-packages (from qiskit-ibmq-provider==0.11.1->qiskit) (1.26.3)\n",
      "Requirement already satisfied: nest-asyncio!=1.1.0,>=1.0.0 in /opt/conda/lib/python3.8/site-packages (from qiskit-ibmq-provider==0.11.1->qiskit) (1.5.1)\n",
      "Requirement already satisfied: websockets>=8 in /opt/conda/lib/python3.8/site-packages (from qiskit-ibmq-provider==0.11.1->qiskit) (8.1)\n",
      "Requirement already satisfied: networkx>=2.2 in /opt/conda/lib/python3.8/site-packages (from qiskit-ignis==0.5.2->qiskit) (2.5)\n",
      "Requirement already satisfied: jsonschema>=2.6 in /opt/conda/lib/python3.8/site-packages (from qiskit-terra==0.16.4->qiskit) (3.2.0)\n",
      "Requirement already satisfied: python-constraint>=1.4 in /opt/conda/lib/python3.8/site-packages (from qiskit-terra==0.16.4->qiskit) (1.4.0)\n",
      "Requirement already satisfied: fastjsonschema>=2.10 in /opt/conda/lib/python3.8/site-packages (from qiskit-terra==0.16.4->qiskit) (2.15.0)\n",
      "Requirement already satisfied: ply>=3.10 in /opt/conda/lib/python3.8/site-packages (from qiskit-terra==0.16.4->qiskit) (3.11)\n",
      "Requirement already satisfied: dill>=0.3 in /opt/conda/lib/python3.8/site-packages (from qiskit-terra==0.16.4->qiskit) (0.3.3)\n",
      "Requirement already satisfied: pyrsistent>=0.14.0 in /opt/conda/lib/python3.8/site-packages (from jsonschema>=2.6->qiskit-terra==0.16.4->qiskit) (0.17.3)\n",
      "Requirement already satisfied: attrs>=17.4.0 in /opt/conda/lib/python3.8/site-packages (from jsonschema>=2.6->qiskit-terra==0.16.4->qiskit) (20.3.0)\n",
      "Requirement already satisfied: decorator>=4.3.0 in /opt/conda/lib/python3.8/site-packages (from networkx>=2.2->qiskit-ignis==0.5.2->qiskit) (4.4.2)\n",
      "Requirement already satisfied: certifi>=2017.4.17 in /opt/conda/lib/python3.8/site-packages (from requests->docplex==2.15.194->qiskit-aqua==0.8.2->qiskit) (2020.12.5)\n",
      "Requirement already satisfied: chardet<5,>=3.0.2 in /opt/conda/lib/python3.8/site-packages (from requests->docplex==2.15.194->qiskit-aqua==0.8.2->qiskit) (4.0.0)\n",
      "Requirement already satisfied: idna<3,>=2.5 in /opt/conda/lib/python3.8/site-packages (from requests->docplex==2.15.194->qiskit-aqua==0.8.2->qiskit) (2.10)\n",
      "Requirement already satisfied: ntlm-auth>=1.0.2 in /opt/conda/lib/python3.8/site-packages (from requests-ntlm>=1.1.0->qiskit-ibmq-provider==0.11.1->qiskit) (1.5.0)\n",
      "Requirement already satisfied: cryptography>=1.3 in /opt/conda/lib/python3.8/site-packages (from requests-ntlm>=1.1.0->qiskit-ibmq-provider==0.11.1->qiskit) (3.4.6)\n",
      "Requirement already satisfied: cffi>=1.12 in /opt/conda/lib/python3.8/site-packages (from cryptography>=1.3->requests-ntlm>=1.1.0->qiskit-ibmq-provider==0.11.1->qiskit) (1.14.5)\n",
      "Requirement already satisfied: pycparser in /opt/conda/lib/python3.8/site-packages (from cffi>=1.12->cryptography>=1.3->requests-ntlm>=1.1.0->qiskit-ibmq-provider==0.11.1->qiskit) (2.20)\n",
      "Requirement already satisfied: joblib>=0.11 in /opt/conda/lib/python3.8/site-packages (from scikit-learn>=0.20.0->qiskit-aqua==0.8.2->qiskit) (1.0.1)\n",
      "Requirement already satisfied: threadpoolctl>=2.0.0 in /opt/conda/lib/python3.8/site-packages (from scikit-learn>=0.20.0->qiskit-aqua==0.8.2->qiskit) (2.1.0)\n",
      "Requirement already satisfied: mpmath>=0.19 in /opt/conda/lib/python3.8/site-packages (from sympy>=1.3->qiskit-aqua==0.8.2->qiskit) (1.2.1)\n",
      "Requirement already satisfied: pytz>=2017.3 in /opt/conda/lib/python3.8/site-packages (from pandas->qiskit-aqua==0.8.2->qiskit) (2021.1)\n",
      "Requirement already satisfied: inflection>=0.3.1 in /opt/conda/lib/python3.8/site-packages (from quandl->qiskit-aqua==0.8.2->qiskit) (0.5.1)\n",
      "Requirement already satisfied: more-itertools in /opt/conda/lib/python3.8/site-packages (from quandl->qiskit-aqua==0.8.2->qiskit) (8.7.0)\n",
      "Requirement already satisfied: multitasking>=0.0.7 in /opt/conda/lib/python3.8/site-packages (from yfinance->qiskit-aqua==0.8.2->qiskit) (0.0.9)\n",
      "Requirement already satisfied: lxml>=4.5.1 in /opt/conda/lib/python3.8/site-packages (from yfinance->qiskit-aqua==0.8.2->qiskit) (4.6.2)\n"
     ]
    }
   ],
   "source": [
    "!pip install qiskit"
   ]
  },
  {
   "cell_type": "code",
   "execution_count": 6,
   "metadata": {
    "id": "LGUDZmuTXbcG"
   },
   "outputs": [],
   "source": [
    "from qiskit import __qiskit_version__, QuantumCircuit, execute, Aer\n",
    "from qiskit.visualization import plot_histogram, plot_bloch_vector, plot_bloch_multivector"
   ]
  },
  {
   "cell_type": "code",
   "execution_count": 7,
   "metadata": {
    "id": "Vo0XkSSGXlmK"
   },
   "outputs": [],
   "source": [
    "# Creating a 2-qubit circuit\n",
    "circ_bell = QuantumCircuit(2)"
   ]
  },
  {
   "cell_type": "code",
   "execution_count": 17,
   "metadata": {
    "colab": {
     "base_uri": "https://localhost:8080/"
    },
    "id": "OV6yVF9AXl9B",
    "outputId": "ddd0f5f2-4eff-4b6d-ffc6-8f6d7a96f922"
   },
   "outputs": [],
   "source": [
    "# Adding a H gate quibit 0, putting this qubit in SUPERPOSITION\n",
    "circ_bell.h(0)"
   ]
  },
  {
   "cell_type": "code",
   "execution_count": 19,
   "metadata": {
    "colab": {
     "base_uri": "https://localhost:8080/"
    },
    "id": "LLrP0taDYS02",
    "outputId": "dbe2202c-5ee6-4209-d288-22f32351f292"
   },
   "outputs": [
    {
     "data": {
      "text/plain": [
       "<qiskit.circuit.instructionset.InstructionSet at 0x7ff97b9a5e20>"
      ]
     },
     "execution_count": 19,
     "metadata": {},
     "output_type": "execute_result"
    }
   ],
   "source": [
    "# Addong CNOT gate on control qubit 0 and target qubit 1\n",
    "# putting the qubits in a BELL STATE that means that the qubits are maximally entangled\n",
    "circ_bell.cx(0,1)"
   ]
  },
  {
   "cell_type": "code",
   "execution_count": 10,
   "metadata": {
    "colab": {
     "base_uri": "https://localhost:8080/",
     "height": 471
    },
    "id": "EL20DZYOYXaS",
    "outputId": "83d24d31-6f10-4ede-ca91-7156d60950d6"
   },
   "outputs": [
    {
     "data": {
      "image/png": "[encoded data removed]",
      "text/plain": [
       "<Figure size 206.852x144.48 with 1 Axes>"
      ]
     },
     "execution_count": 10,
     "metadata": {},
     "output_type": "execute_result"
    }
   ],
   "source": [
    "# Visualizing the circuit\n",
    "circ_bell.draw('mpl')"
   ]
  },
  {
   "cell_type": "code",
   "execution_count": 20,
   "metadata": {},
   "outputs": [],
   "source": [
    "# Simulating the 2-qubit circuit by using the backend -> statevector_simulator\n",
    "backend = Aer.get_backend('statevector_simulator')"
   ]
  },
  {
   "cell_type": "code",
   "execution_count": 13,
   "metadata": {},
   "outputs": [],
   "source": [
    "# Compiling and running the 2-qubit circuit \n",
    "job = execute(circ_bell, backend)"
   ]
  },
  {
   "cell_type": "code",
   "execution_count": 21,
   "metadata": {},
   "outputs": [],
   "source": [
    "# Grabbing the results from the variable job\n",
    "result = job.result()"
   ]
  },
  {
   "cell_type": "code",
   "execution_count": 24,
   "metadata": {},
   "outputs": [
    {
     "name": "stdout",
     "output_type": "stream",
     "text": [
      "[0.70710678+0.j 0.        +0.j 0.        +0.j 0.70710678+0.j]\n"
     ]
    }
   ],
   "source": [
    "# Getting the state vector of the 2-quibit circuit\n",
    "state_bell = result.get_statevector(circ_bell)\n",
    "print(state_bell)"
   ]
  },
  {
   "cell_type": "code",
   "execution_count": 22,
   "metadata": {},
   "outputs": [],
   "source": [
    "# Getting the binary outcomes of the 2-quibit circuit \n",
    "counts = result.get_counts(circ_bell)"
   ]
  },
  {
   "cell_type": "code",
   "execution_count": 16,
   "metadata": {},
   "outputs": [
    {
     "data": {
      "image/png": "[encoded data removed]",
      "text/plain": [
       "<Figure size 504x360 with 1 Axes>"
      ]
     },
     "execution_count": 16,
     "metadata": {},
     "output_type": "execute_result"
    }
   ],
   "source": [
    "# Visualizing the outcomes\n",
    "plot_histogram(counts)"
   ]
  }
 ],
 "metadata": {
  "colab": {
   "name": "My_first_QuantumCircuit_by_GiovannaGalleno.ipynb",
   "provenance": []
  },
  "kernelspec": {
   "display_name": "Python 3",
   "language": "python",
   "name": "python3"
  },
  "language_info": {
   "codemirror_mode": {
    "name": "ipython",
    "version": 3
   },
   "file_extension": ".py",
   "mimetype": "text/x-python",
   "name": "python",
   "nbconvert_exporter": "python",
   "pygments_lexer": "ipython3",
   "version": "3.8.6"
  }
 },
 "nbformat": 4,
 "nbformat_minor": 1
}
